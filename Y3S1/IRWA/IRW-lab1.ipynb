{
 "cells": [
  {
   "cell_type": "code",
   "execution_count": 1,
   "id": "e0a7c161-2b74-43e5-819c-db0c26a99e95",
   "metadata": {},
   "outputs": [
    {
     "name": "stdout",
     "output_type": "stream",
     "text": [
      "13\n"
     ]
    }
   ],
   "source": [
    "print(6+7)"
   ]
  },
  {
   "cell_type": "code",
   "execution_count": 3,
   "id": "71f0068a-53ef-4024-9b61-df656443a85a",
   "metadata": {},
   "outputs": [
    {
     "data": {
      "text/plain": [
       "False"
      ]
     },
     "execution_count": 3,
     "metadata": {},
     "output_type": "execute_result"
    }
   ],
   "source": [
    "5==7 and 4>1"
   ]
  },
  {
   "cell_type": "code",
   "execution_count": 5,
   "id": "e33193ac-cd6a-4241-9678-14b5f99afa16",
   "metadata": {},
   "outputs": [
    {
     "data": {
      "text/plain": [
       "False"
      ]
     },
     "execution_count": 5,
     "metadata": {},
     "output_type": "execute_result"
    }
   ],
   "source": [
    "not 8>3"
   ]
  },
  {
   "cell_type": "code",
   "execution_count": 7,
   "id": "28ddfc2d-76c1-4b92-9927-3e5e384cff78",
   "metadata": {},
   "outputs": [
    {
     "name": "stdout",
     "output_type": "stream",
     "text": [
      "False\n"
     ]
    }
   ],
   "source": [
    "print(not 5>2)"
   ]
  },
  {
   "cell_type": "code",
   "execution_count": 9,
   "id": "4a17faf1-0f41-4388-87c2-68c3d5f302f1",
   "metadata": {},
   "outputs": [
    {
     "name": "stdout",
     "output_type": "stream",
     "text": [
      "True\n"
     ]
    }
   ],
   "source": [
    "print(3==4 or 6>4)"
   ]
  },
  {
   "cell_type": "code",
   "execution_count": 11,
   "id": "b3d7b2e1-4a2a-4896-82d2-897642072809",
   "metadata": {},
   "outputs": [
    {
     "name": "stdout",
     "output_type": "stream",
     "text": [
      "1\n"
     ]
    }
   ],
   "source": [
    "print(8//5)"
   ]
  },
  {
   "cell_type": "code",
   "execution_count": 13,
   "id": "038cfbf7-25cb-4602-80a5-de8740beb60a",
   "metadata": {},
   "outputs": [
    {
     "name": "stdout",
     "output_type": "stream",
     "text": [
      "1.6\n"
     ]
    }
   ],
   "source": [
    "print(8/5)"
   ]
  },
  {
   "cell_type": "code",
   "execution_count": 15,
   "id": "8fcfea48-fe8f-4712-bdf9-6dc811da75c7",
   "metadata": {},
   "outputs": [
    {
     "name": "stdout",
     "output_type": "stream",
     "text": [
      "1.6\n"
     ]
    }
   ],
   "source": [
    "print(8/5.00)"
   ]
  },
  {
   "cell_type": "code",
   "execution_count": 17,
   "id": "f493432a-63fa-43bc-8b50-d24586e24fa9",
   "metadata": {},
   "outputs": [
    {
     "name": "stdout",
     "output_type": "stream",
     "text": [
      "True\n"
     ]
    }
   ],
   "source": [
    "print(5>2 & 6<9)"
   ]
  },
  {
   "cell_type": "code",
   "execution_count": 19,
   "id": "21bdf91d-78d6-4de6-881e-08d47a119835",
   "metadata": {},
   "outputs": [
    {
     "name": "stdout",
     "output_type": "stream",
     "text": [
      "True\n"
     ]
    }
   ],
   "source": [
    "print(5>2 and 6<9)"
   ]
  },
  {
   "cell_type": "code",
   "execution_count": 21,
   "id": "a24480e9-20ad-4cf1-b963-540e12cacea4",
   "metadata": {},
   "outputs": [
    {
     "data": {
      "text/plain": [
       "float"
      ]
     },
     "execution_count": 21,
     "metadata": {},
     "output_type": "execute_result"
    }
   ],
   "source": [
    "type(6.0)"
   ]
  },
  {
   "cell_type": "code",
   "execution_count": 27,
   "id": "8c23470e-1362-4dd7-b96b-8b0c23da8ebf",
   "metadata": {},
   "outputs": [
    {
     "name": "stdout",
     "output_type": "stream",
     "text": [
      "<class 'str'>\n"
     ]
    }
   ],
   "source": [
    "g = 'cat'\n",
    "print(type(g))"
   ]
  },
  {
   "cell_type": "code",
   "execution_count": 29,
   "id": "f994fb64-94d2-4bb3-b2b0-fe5ee0e175f3",
   "metadata": {},
   "outputs": [
    {
     "name": "stdout",
     "output_type": "stream",
     "text": [
      "5\n"
     ]
    }
   ],
   "source": [
    "g = 5\n",
    "print(g)"
   ]
  },
  {
   "cell_type": "code",
   "execution_count": 37,
   "id": "8601556e-f58a-446d-ba5f-3b2fcc252d3d",
   "metadata": {},
   "outputs": [
    {
     "name": "stdout",
     "output_type": "stream",
     "text": [
      "Dogboy\n"
     ]
    }
   ],
   "source": [
    "k = 'Dog'\n",
    "f = 'boy'\n",
    "print(k+f)"
   ]
  },
  {
   "cell_type": "code",
   "execution_count": 44,
   "id": "0a03ccec-ba7e-4fae-a93e-597da6ad713e",
   "metadata": {},
   "outputs": [
    {
     "data": {
      "text/plain": [
       "list"
      ]
     },
     "execution_count": 44,
     "metadata": {},
     "output_type": "execute_result"
    }
   ],
   "source": [
    "a = [4,5]\n",
    "type(a)"
   ]
  },
  {
   "cell_type": "code",
   "execution_count": 46,
   "id": "2ff86c49-d445-4f75-b399-82fecffc5875",
   "metadata": {},
   "outputs": [
    {
     "data": {
      "text/plain": [
       "set"
      ]
     },
     "execution_count": 46,
     "metadata": {},
     "output_type": "execute_result"
    }
   ],
   "source": [
    "b = {4,32}\n",
    "type(b)"
   ]
  },
  {
   "cell_type": "code",
   "execution_count": 48,
   "id": "d0133f8f-a4bd-4172-8018-fd80c5009df3",
   "metadata": {},
   "outputs": [
    {
     "data": {
      "text/plain": [
       "tuple"
      ]
     },
     "execution_count": 48,
     "metadata": {},
     "output_type": "execute_result"
    }
   ],
   "source": [
    "c = (3,2)\n",
    "type(c)"
   ]
  },
  {
   "cell_type": "code",
   "execution_count": 52,
   "id": "40049780-29cf-4c3c-8a98-ed333a40128c",
   "metadata": {},
   "outputs": [
    {
     "name": "stdout",
     "output_type": "stream",
     "text": [
      "[4, 5, 4, 4]\n"
     ]
    }
   ],
   "source": [
    "a.append(4)\n",
    "print(a)"
   ]
  },
  {
   "cell_type": "code",
   "execution_count": 54,
   "id": "d9ad8c13-5a86-4000-ac23-44e166a6c37e",
   "metadata": {},
   "outputs": [
    {
     "ename": "AttributeError",
     "evalue": "'set' object has no attribute 'append'",
     "output_type": "error",
     "traceback": [
      "\u001b[1;31m---------------------------------------------------------------------------\u001b[0m",
      "\u001b[1;31mAttributeError\u001b[0m                            Traceback (most recent call last)",
      "Cell \u001b[1;32mIn[54], line 1\u001b[0m\n\u001b[1;32m----> 1\u001b[0m b\u001b[38;5;241m.\u001b[39mappend(\u001b[38;5;241m5\u001b[39m)\n\u001b[0;32m      2\u001b[0m \u001b[38;5;28mprint\u001b[39m(b)\n",
      "\u001b[1;31mAttributeError\u001b[0m: 'set' object has no attribute 'append'"
     ]
    }
   ],
   "source": [
    "b.append(5)\n",
    "print(b)"
   ]
  },
  {
   "cell_type": "code",
   "execution_count": 56,
   "id": "4a805b2a-4174-4c88-8a1d-54c81fe90802",
   "metadata": {},
   "outputs": [
    {
     "ename": "AttributeError",
     "evalue": "'tuple' object has no attribute 'append'",
     "output_type": "error",
     "traceback": [
      "\u001b[1;31m---------------------------------------------------------------------------\u001b[0m",
      "\u001b[1;31mAttributeError\u001b[0m                            Traceback (most recent call last)",
      "Cell \u001b[1;32mIn[56], line 1\u001b[0m\n\u001b[1;32m----> 1\u001b[0m c\u001b[38;5;241m.\u001b[39mappend(\u001b[38;5;241m5\u001b[39m)\n\u001b[0;32m      2\u001b[0m \u001b[38;5;28mprint\u001b[39m(b)\n",
      "\u001b[1;31mAttributeError\u001b[0m: 'tuple' object has no attribute 'append'"
     ]
    }
   ],
   "source": [
    "c.append(5)\n",
    "print(b)"
   ]
  },
  {
   "cell_type": "code",
   "execution_count": 58,
   "id": "20cf6d59-d6af-4dd1-92f7-743727f809ac",
   "metadata": {},
   "outputs": [
    {
     "name": "stdout",
     "output_type": "stream",
     "text": [
      "[1, 2, 'cat', [2, 3, 1], 'man']\n"
     ]
    }
   ],
   "source": [
    "d = [1,2,\"cat\",[2,3,1],'man']\n",
    "print(d)"
   ]
  },
  {
   "cell_type": "code",
   "execution_count": 64,
   "id": "5e45178f-9401-4387-b929-6b303d5750cc",
   "metadata": {},
   "outputs": [
    {
     "data": {
      "text/plain": [
       "'man'"
      ]
     },
     "execution_count": 64,
     "metadata": {},
     "output_type": "execute_result"
    }
   ],
   "source": [
    "d[-1]"
   ]
  },
  {
   "cell_type": "code",
   "execution_count": 66,
   "id": "920327e1-b722-4f84-80f7-d2c84a72b50c",
   "metadata": {},
   "outputs": [
    {
     "name": "stdout",
     "output_type": "stream",
     "text": [
      "[1, 200, 'cat', [2, 3, 1], 'man']\n"
     ]
    }
   ],
   "source": [
    "d[1] = 200\n",
    "print(d)"
   ]
  },
  {
   "cell_type": "code",
   "execution_count": 68,
   "id": "78e60b5c-4fc7-435b-8a73-17a823725fca",
   "metadata": {},
   "outputs": [
    {
     "name": "stdout",
     "output_type": "stream",
     "text": [
      "['cat', [2, 3, 1], 'man']\n"
     ]
    }
   ],
   "source": [
    "print(d[2:5])"
   ]
  },
  {
   "cell_type": "code",
   "execution_count": 76,
   "id": "1aee517e-5697-4d8b-85f1-3b08da2c37fb",
   "metadata": {},
   "outputs": [
    {
     "name": "stdout",
     "output_type": "stream",
     "text": [
      "[1, 200, 'cat']\n",
      "['cat', [2, 3, 1], 'man']\n"
     ]
    }
   ],
   "source": [
    "print(d[:3])\n",
    "print(d[2:])"
   ]
  },
  {
   "cell_type": "code",
   "execution_count": 13,
   "id": "f5ccb513-f8de-4aee-bb7f-dc7a16caf0d6",
   "metadata": {},
   "outputs": [
    {
     "name": "stdout",
     "output_type": "stream",
     "text": [
      "11\n",
      "12\n",
      "13\n",
      "14\n"
     ]
    }
   ],
   "source": [
    "list1 = [1,2,3,4]\n",
    "i = 0\n",
    "for i in range(len(list1)):\n",
    "    list1[i] = 10 + list1[i]\n",
    "    print(list1[i])"
   ]
  },
  {
   "cell_type": "code",
   "execution_count": 100,
   "id": "42e27935-20ae-4f8c-93bb-38fa0e5ff937",
   "metadata": {},
   "outputs": [
    {
     "name": "stdout",
     "output_type": "stream",
     "text": [
      "11\n"
     ]
    }
   ],
   "source": [
    "print(list1[0])"
   ]
  },
  {
   "cell_type": "code",
   "execution_count": 110,
   "id": "79176460-7766-4cb9-a252-d105106aa81a",
   "metadata": {},
   "outputs": [
    {
     "name": "stdout",
     "output_type": "stream",
     "text": [
      "{'a': 1, 'b': 2, 'c': 3}\n"
     ]
    }
   ],
   "source": [
    "f = {\"a\":1,\"b\":2,\"c\":3}\n",
    "print(f)"
   ]
  },
  {
   "cell_type": "code",
   "execution_count": 114,
   "id": "51712d35-b32d-4701-a4a0-85832641d8e0",
   "metadata": {},
   "outputs": [
    {
     "name": "stdout",
     "output_type": "stream",
     "text": [
      "{1001: ['saman', 'maharagama'], 1002: ['amal', 'malabe']}\n"
     ]
    }
   ],
   "source": [
    "h = {1001:['saman','maharagama'],1002:['amal','malabe']}\n",
    "print(h)"
   ]
  },
  {
   "cell_type": "code",
   "execution_count": null,
   "id": "24b17e09-ae7e-4278-85f4-bf7647c128a5",
   "metadata": {},
   "outputs": [],
   "source": [
    "lab1"
   ]
  },
  {
   "cell_type": "code",
   "execution_count": 37,
   "id": "010c5ec7-325c-44b1-ba24-5d2a4f21ffbf",
   "metadata": {},
   "outputs": [
    {
     "name": "stdout",
     "output_type": "stream",
     "text": [
      "['India:Kohli', 'England:Root', 'NZ:Williamson', 'Aus:Smith']\n"
     ]
    }
   ],
   "source": [
    "teams = [\"India\", \"England\", \"NZ\", \"Aus\"]\n",
    "captains = [\"Kohli\", \"Root\", \"Williamson\", \"Smith\"]\n",
    "conArray = []\n",
    "for i in range(4):\n",
    "    conArray.append(teams[i] + \":\" + captains[i])\n",
    "\n",
    "print(conArray)"
   ]
  },
  {
   "cell_type": "code",
   "execution_count": 39,
   "id": "265cfa8f-7398-4508-80af-b7397eb0ad34",
   "metadata": {},
   "outputs": [
    {
     "data": {
      "text/plain": [
       "[('India', 'Kohli'),\n",
       " ('England', 'Root'),\n",
       " ('NZ', 'Williamson'),\n",
       " ('Aus', 'Smith')]"
      ]
     },
     "execution_count": 39,
     "metadata": {},
     "output_type": "execute_result"
    }
   ],
   "source": [
    "[(teams[i],captains[i]) for i in range(len(teams))]"
   ]
  },
  {
   "cell_type": "code",
   "execution_count": 121,
   "id": "131d4874-1ebc-4207-a6b3-53ab51be732e",
   "metadata": {},
   "outputs": [
    {
     "name": "stdout",
     "output_type": "stream",
     "text": [
      "Answer1: [('India', 'Kohli'), ('England', 'Root'), ('NZ', 'Williamson'), ('Aus', 'Smith')]\n"
     ]
    }
   ],
   "source": [
    "ans1 = list(zip(teams,captains))\n",
    "print(\"Answer1:\", ans1)"
   ]
  },
  {
   "cell_type": "code",
   "execution_count": 125,
   "id": "d02f9b0c-d915-4b24-a903-63dbe88f13cb",
   "metadata": {},
   "outputs": [
    {
     "name": "stdout",
     "output_type": "stream",
     "text": [
      "Answer2 : {'India': 'Kohli', 'England': 'Root', 'NZ': 'Williamson', 'Aus': 'Smith'}\n"
     ]
    }
   ],
   "source": [
    "ans2 = dict(zip(teams,captains))\n",
    "print(\"Answer2 :\",ans2)"
   ]
  },
  {
   "cell_type": "code",
   "execution_count": 47,
   "id": "5bf57f29-5fb2-484e-bdeb-1ab7819737f3",
   "metadata": {},
   "outputs": [
    {
     "name": "stdout",
     "output_type": "stream",
     "text": [
      "{'India': 'Kohli', 'England': 'Root', 'NZ': 'Williamson', 'Aus': 'Smith'}\n"
     ]
    }
   ],
   "source": [
    "d = dict()\n",
    "for i,j in list(zip(teams,captains)):\n",
    "    d[i]=j\n",
    "\n",
    "print(d)"
   ]
  },
  {
   "cell_type": "code",
   "execution_count": 91,
   "id": "2a6debd0-baba-4ba5-b15f-69b995589db4",
   "metadata": {},
   "outputs": [
    {
     "name": "stdout",
     "output_type": "stream",
     "text": [
      "You bought 3 textbooks for $ 300\n",
      "You bought 2 exercise books for $ 120\n",
      "You bought 1 story book for $ 90\n",
      "You bought 4 drawing books for $ 280\n"
     ]
    }
   ],
   "source": [
    "books= [\"textbooks\", \"exercise books\", \"story book\", \"drawing books\"]\n",
    "prices = [100,60,90,70]\n",
    "quantities = [3,2,1,4]\n",
    "\n",
    "for i in range (1,5):\n",
    "    print(\"You bought\",quantities[i-1],books[i-1],\"for $\",prices[i-1]*quantities[i-1])"
   ]
  },
  {
   "cell_type": "code",
   "execution_count": 97,
   "id": "2f9a7b90-de93-43ec-ab39-6367bcf157b4",
   "metadata": {},
   "outputs": [
    {
     "name": "stdout",
     "output_type": "stream",
     "text": [
      "You bought 3 textbooks for $300\n",
      "You bought 2 exercise books for $120\n",
      "You bought 1 story book for $90\n",
      "You bought 4 drawing books for $280\n"
     ]
    }
   ],
   "source": [
    "for i,j,k in zip(quantities,books,prices):\n",
    "    print(\"You bought {} {} for ${}\".format(i,j,i*k))"
   ]
  },
  {
   "cell_type": "code",
   "execution_count": 3,
   "id": "431ad65d-1577-4649-b92c-408cf4ce7911",
   "metadata": {},
   "outputs": [
    {
     "name": "stdout",
     "output_type": "stream",
     "text": [
      "10 Grapes\n",
      "20 Oranges\n",
      "30 Mangoes\n",
      "40 Apples\n"
     ]
    }
   ],
   "source": [
    "list1 = [10, 20, 30, 40]\n",
    "list2 = [\"Apples\", \"Mangoes\", \"Oranges\", \"Grapes\"]\n",
    "\n",
    "for i in range (0,4):\n",
    "    print(list1[i],list2[3-i])"
   ]
  },
  {
   "cell_type": "code",
   "execution_count": 27,
   "id": "3d41c9d3-daf4-41f0-a0f8-45b8c34ce5d2",
   "metadata": {},
   "outputs": [
    {
     "name": "stdout",
     "output_type": "stream",
     "text": [
      "Answer2:  ['a', 'b', ['c', ['d', 'e', ['f', 'g', 'h', 'i', 'j'], 'k'], 'l'], 'm', 'n']\n",
      "Answer1:  ['a', 'b', ['c', ['d', 'e', ['f', 'g', ['h', 'i', 'j']], 'k'], 'l'], 'm', 'n']\n"
     ]
    }
   ],
   "source": [
    "list1 = [\"a\", \"b\", [\"c\", [\"d\", \"e\", [\"f\", \"g\"], \"k\"], \"l\"], \"m\", \"n\"]\n",
    "sub_list = [\"h\", \"i\", \"j\"]\n",
    "list1[2][1][2].extend(sub_list)\n",
    "print(\"Answer2: \",list1)\n",
    "\n",
    "list2 = [\"a\", \"b\", [\"c\", [\"d\", \"e\", [\"f\", \"g\"], \"k\"], \"l\"], \"m\", \"n\"]\n",
    "sub_list2 = [\"h\", \"i\", \"j\"]\n",
    "list2[2][1][2].append(sub_list2)\n",
    "print(\"Answer1: \",list2)"
   ]
  },
  {
   "cell_type": "code",
   "execution_count": 17,
   "id": "cb6021e3-958f-488e-a6ea-0f2b8c4b1d0f",
   "metadata": {},
   "outputs": [
    {
     "name": "stdout",
     "output_type": "stream",
     "text": [
      "Answer = [10, 20, 32, 54]\n"
     ]
    }
   ],
   "source": [
    "List1= [10,15,20,15,32,54,15]\n",
    "Answer = []\n",
    "\n",
    "for i in range(len(List1)):\n",
    "    if (List1[i] == 15):\n",
    "        continue\n",
    "    else:\n",
    "        Answer.append(List1[i])\n",
    "\n",
    "print(\"Answer = \"+str(Answer))"
   ]
  },
  {
   "cell_type": "code",
   "execution_count": 43,
   "id": "e4b56b48-da1c-4527-99f7-fb32d26d9cec",
   "metadata": {},
   "outputs": [
    {
     "name": "stdout",
     "output_type": "stream",
     "text": [
      "{'John': 15, 'Rick': 20, 'Misa': 12, 'Bonnie': 18, 'Matt': 16}\n"
     ]
    }
   ],
   "source": [
    "dict_1 = {'John': 15, 'Rick': 10, 'Misa': 12}\n",
    "dict_2 = {'Bonnie': 18,'Rick': 20,'Matt': 16}\n",
    "\n",
    "print(dict_1|dict_2)"
   ]
  },
  {
   "cell_type": "code",
   "execution_count": 55,
   "id": "c751a75c-c185-4536-95f8-405ecb5769b6",
   "metadata": {},
   "outputs": [
    {
     "name": "stdout",
     "output_type": "stream",
     "text": [
      "{0: 1, 1: 2, 2: 3, 3: 4}\n"
     ]
    }
   ],
   "source": [
    "d = {0: 0, 1: 1, 2: 2, 3: 3}\n",
    "for i in range(4):\n",
    "    d[i] = 1 + d[i]\n",
    "print(d)"
   ]
  },
  {
   "cell_type": "code",
   "execution_count": 3,
   "id": "6184708e-2946-4867-bb9b-988264f21ca6",
   "metadata": {},
   "outputs": [
    {
     "name": "stdout",
     "output_type": "stream",
     "text": [
      "{'USA': 'Washington D.C.', 'France': 'Paris', 'India': 'New Delhi'}\n"
     ]
    }
   ],
   "source": [
    "country=[\"USA\",\"France\",\"India\"]\n",
    "capital= [\"Washington D.C.\",\"Paris\",\"New Delhi\"]\n",
    "\n",
    "Dict1 = dict(zip(country,capital))\n",
    "print(Dict1)"
   ]
  },
  {
   "cell_type": "code",
   "execution_count": 25,
   "id": "6e46382d-b3f4-46f0-917f-0c477bf60c0e",
   "metadata": {},
   "outputs": [
    {
     "name": "stdout",
     "output_type": "stream",
     "text": [
      "{'Fruit': 'Pear', 'Vegetable': 'Carrot', 'Pet': 'Cat'}\n"
     ]
    }
   ],
   "source": [
    "My_dict = {\"Fruit\": \"Pear\",\n",
    "\"Vegetable\": \"Carrot\",\n",
    "\"Pet\": \"Cat\",\n",
    "\"Book\": \"Moby dick\",\n",
    "\"Crystal\": \"Amethyst\"}\n",
    "\n",
    "#print(My_dict.keys())\n",
    "My_dict.pop(\"Book\")\n",
    "My_dict.pop(\"Crystal\")\n",
    "print(My_dict)"
   ]
  },
  {
   "cell_type": "code",
   "execution_count": 9,
   "id": "a908f745-dc91-4366-bfd3-44376e184ab4",
   "metadata": {},
   "outputs": [
    {
     "name": "stdout",
     "output_type": "stream",
     "text": [
      "[15, 55, 75, 150, 180, 200]\n"
     ]
    }
   ],
   "source": [
    "list1 = [12, 15, 32, 42, 55, 75, 122, 132, 150, 180, 200]\n",
    "answer =[]\n",
    "for i in range (len(list1)):\n",
    "    if list1[i]%5 == 0:\n",
    "        answer.append(list1[i])\n",
    "print(answer)\n"
   ]
  },
  {
   "cell_type": "code",
   "execution_count": 19,
   "id": "9dddc4e8-2dad-43f1-b993-e3d5c03f788e",
   "metadata": {},
   "outputs": [
    {
     "name": "stdout",
     "output_type": "stream",
     "text": [
      "[75, 150, 145]\n"
     ]
    }
   ],
   "source": [
    "numbers = [12, 75, 150, 180, 145, 525, 50]\n",
    "answer = []\n",
    "for i in range(len(numbers)):\n",
    "    if numbers[i]>500:\n",
    "        break\n",
    "    elif numbers[i]>150:\n",
    "        continue\n",
    "    elif numbers[i] % 5 == 0:\n",
    "        answer.append(numbers[i])\n",
    "\n",
    "print(answer)"
   ]
  },
  {
   "cell_type": "code",
   "execution_count": 87,
   "id": "e4d1eb79-5e5c-4caa-b8bb-a0a3d4576f5d",
   "metadata": {},
   "outputs": [
    {
     "name": "stdout",
     "output_type": "stream",
     "text": [
      "2\n"
     ]
    }
   ],
   "source": [
    "def fun6(n):\n",
    "    ans = 0\n",
    "    for i in range(n):\n",
    "        ans = ans + 2*pow(10,i)\n",
    "        return ans\n",
    "\n",
    "\n",
    "print(fun6(9))"
   ]
  },
  {
   "cell_type": "code",
   "execution_count": null,
   "id": "b52c92e6-8670-4f9e-820e-9b4af64ddb78",
   "metadata": {},
   "outputs": [],
   "source": []
  }
 ],
 "metadata": {
  "kernelspec": {
   "display_name": "Python 3 (ipykernel)",
   "language": "python",
   "name": "python3"
  },
  "language_info": {
   "codemirror_mode": {
    "name": "ipython",
    "version": 3
   },
   "file_extension": ".py",
   "mimetype": "text/x-python",
   "name": "python",
   "nbconvert_exporter": "python",
   "pygments_lexer": "ipython3",
   "version": "3.12.4"
  }
 },
 "nbformat": 4,
 "nbformat_minor": 5
}
